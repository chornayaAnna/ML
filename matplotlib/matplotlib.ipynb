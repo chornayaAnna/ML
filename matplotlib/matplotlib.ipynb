{
 "cells": [
  {
   "cell_type": "code",
   "execution_count": null,
   "metadata": {},
   "outputs": [],
   "source": [
    "pip install pandas\n",
    "pip install matplotlib\n",
    "pip install numpy"
   ]
  },
  {
   "cell_type": "code",
   "execution_count": 2,
   "metadata": {},
   "outputs": [],
   "source": [
    "import pandas as pd\n",
    "\n",
    "# помогает корректно отображать графики\n",
    "%matplotlib inline \n",
    "import matplotlib.pyplot as plt\n",
    "import numpy as np"
   ]
  },
  {
   "cell_type": "code",
   "execution_count": 4,
   "metadata": {},
   "outputs": [
    {
     "data": {
      "text/html": [
       "<div>\n",
       "<style scoped>\n",
       "    .dataframe tbody tr th:only-of-type {\n",
       "        vertical-align: middle;\n",
       "    }\n",
       "\n",
       "    .dataframe tbody tr th {\n",
       "        vertical-align: top;\n",
       "    }\n",
       "\n",
       "    .dataframe thead th {\n",
       "        text-align: right;\n",
       "    }\n",
       "</style>\n",
       "<table border=\"1\" class=\"dataframe\">\n",
       "  <thead>\n",
       "    <tr style=\"text-align: right;\">\n",
       "      <th></th>\n",
       "      <th>Отметка времени</th>\n",
       "      <th>Сколько вам лет?</th>\n",
       "      <th>Чем вы занимаетесь?</th>\n",
       "      <th>Ваш пол:</th>\n",
       "      <th>Какие товары вас интересуют (выберите 2 варианта):</th>\n",
       "      <th>Есть ли у вас дети?</th>\n",
       "      <th>В какой местности вы живете?</th>\n",
       "      <th>Как часто вы посещаете этот магазин?</th>\n",
       "      <th>Вас устраивают цены на товары?</th>\n",
       "      <th>Какой отдых вы предпочитаете?</th>\n",
       "      <th>Есть ли у вас автомобиль?</th>\n",
       "    </tr>\n",
       "  </thead>\n",
       "  <tbody>\n",
       "    <tr>\n",
       "      <th>0</th>\n",
       "      <td>2020-04-13 17:13:20.508</td>\n",
       "      <td>26 и больше</td>\n",
       "      <td>работаю</td>\n",
       "      <td>мужской</td>\n",
       "      <td>Продукты питания, Бытовая техника</td>\n",
       "      <td>нет</td>\n",
       "      <td>город</td>\n",
       "      <td>каждые 2 дня</td>\n",
       "      <td>да</td>\n",
       "      <td>Вариант 3</td>\n",
       "      <td>нет</td>\n",
       "    </tr>\n",
       "    <tr>\n",
       "      <th>1</th>\n",
       "      <td>2020-04-13 17:13:24.214</td>\n",
       "      <td>10-18</td>\n",
       "      <td>учусь</td>\n",
       "      <td>мужской</td>\n",
       "      <td>Продукты питания, Бытовая техника</td>\n",
       "      <td>нет</td>\n",
       "      <td>город</td>\n",
       "      <td>раз в месяц</td>\n",
       "      <td>нет</td>\n",
       "      <td>активный</td>\n",
       "      <td>нет</td>\n",
       "    </tr>\n",
       "    <tr>\n",
       "      <th>2</th>\n",
       "      <td>2020-04-13 17:13:25.290</td>\n",
       "      <td>10-18</td>\n",
       "      <td>учусь</td>\n",
       "      <td>мужской</td>\n",
       "      <td>Продукты питания, Товары для активного образа ...</td>\n",
       "      <td>нет</td>\n",
       "      <td>город</td>\n",
       "      <td>каждые 2 дня</td>\n",
       "      <td>да</td>\n",
       "      <td>активный</td>\n",
       "      <td>нет</td>\n",
       "    </tr>\n",
       "    <tr>\n",
       "      <th>3</th>\n",
       "      <td>2020-04-13 17:13:31.307</td>\n",
       "      <td>26 и больше</td>\n",
       "      <td>работаю</td>\n",
       "      <td>женский</td>\n",
       "      <td>Бытовая техника, для дачи</td>\n",
       "      <td>нет</td>\n",
       "      <td>село</td>\n",
       "      <td>раз в месяц</td>\n",
       "      <td>нет</td>\n",
       "      <td>за городом</td>\n",
       "      <td>да</td>\n",
       "    </tr>\n",
       "    <tr>\n",
       "      <th>4</th>\n",
       "      <td>2020-04-13 17:13:36.837</td>\n",
       "      <td>10-18</td>\n",
       "      <td>учусь</td>\n",
       "      <td>мужской</td>\n",
       "      <td>Продукты питания, Бытовая техника, Товары для ...</td>\n",
       "      <td>нет</td>\n",
       "      <td>город</td>\n",
       "      <td>каждые 2 дня</td>\n",
       "      <td>да</td>\n",
       "      <td>активный</td>\n",
       "      <td>нет</td>\n",
       "    </tr>\n",
       "  </tbody>\n",
       "</table>\n",
       "</div>"
      ],
      "text/plain": [
       "          Отметка времени Сколько вам лет? Чем вы занимаетесь? Ваш пол:  \\\n",
       "0 2020-04-13 17:13:20.508      26 и больше             работаю  мужской   \n",
       "1 2020-04-13 17:13:24.214            10-18               учусь  мужской   \n",
       "2 2020-04-13 17:13:25.290            10-18               учусь  мужской   \n",
       "3 2020-04-13 17:13:31.307      26 и больше             работаю  женский   \n",
       "4 2020-04-13 17:13:36.837            10-18               учусь  мужской   \n",
       "\n",
       "  Какие товары вас интересуют (выберите 2 варианта): Есть ли у вас дети?  \\\n",
       "0                  Продукты питания, Бытовая техника                 нет   \n",
       "1                  Продукты питания, Бытовая техника                 нет   \n",
       "2  Продукты питания, Товары для активного образа ...                 нет   \n",
       "3                          Бытовая техника, для дачи                 нет   \n",
       "4  Продукты питания, Бытовая техника, Товары для ...                 нет   \n",
       "\n",
       "  В какой местности вы живете? Как часто вы посещаете этот магазин?  \\\n",
       "0                        город                         каждые 2 дня   \n",
       "1                        город                          раз в месяц   \n",
       "2                        город                         каждые 2 дня   \n",
       "3                         село                          раз в месяц   \n",
       "4                        город                         каждые 2 дня   \n",
       "\n",
       "  Вас устраивают цены на товары? Какой отдых вы предпочитаете?  \\\n",
       "0                             да                     Вариант 3   \n",
       "1                            нет                      активный   \n",
       "2                             да                      активный   \n",
       "3                            нет                    за городом   \n",
       "4                             да                      активный   \n",
       "\n",
       "  Есть ли у вас автомобиль?  \n",
       "0                       нет  \n",
       "1                       нет  \n",
       "2                       нет  \n",
       "3                        да  \n",
       "4                       нет  "
      ]
     },
     "execution_count": 4,
     "metadata": {},
     "output_type": "execute_result"
    }
   ],
   "source": [
    "new = pd.DataFrame()\n",
    "new = pd.read_excel('MK.xlsx')\n",
    "new.head(5)"
   ]
  },
  {
   "cell_type": "code",
   "execution_count": 86,
   "metadata": {},
   "outputs": [
    {
     "data": {
      "text/plain": [
       "<matplotlib.axes._subplots.AxesSubplot at 0x1840c83fa90>"
      ]
     },
     "execution_count": 86,
     "metadata": {},
     "output_type": "execute_result"
    },
    {
     "data": {
      "image/png": "[encoded data removed]",
      "text/plain": [
       "<Figure size 432x288 with 1 Axes>"
      ]
     },
     "metadata": {
      "needs_background": "light"
     },
     "output_type": "display_data"
    }
   ],
   "source": [
    "new['Ваш пол:'].hist()"
   ]
  },
  {
   "cell_type": "code",
   "execution_count": 8,
   "metadata": {},
   "outputs": [
    {
     "data": {
      "text/plain": [
       "<matplotlib.axes._subplots.AxesSubplot at 0x18407f81070>"
      ]
     },
     "execution_count": 8,
     "metadata": {},
     "output_type": "execute_result"
    },
    {
     "data": {
      "image/png": "[encoded data removed]",
      "text/plain": [
       "<Figure size 432x288 with 1 Axes>"
      ]
     },
     "metadata": {
      "needs_background": "light"
     },
     "output_type": "display_data"
    }
   ],
   "source": [
    "new['Какой отдых вы предпочитаете?'].hist()"
   ]
  },
  {
   "cell_type": "code",
   "execution_count": 31,
   "metadata": {},
   "outputs": [
    {
     "data": {
      "text/plain": [
       "(array([ 1.,  2.,  7., 14., 11.,  7.,  5.,  0.,  2.,  1.]),\n",
       " array([-1.98281904e+00, -1.48714926e+00, -9.91479474e-01, -4.95809689e-01,\n",
       "        -1.39904700e-04,  4.95529880e-01,  9.91199664e-01,  1.48686945e+00,\n",
       "         1.98253923e+00,  2.47820902e+00,  2.97387880e+00]),\n",
       " <a list of 10 Patch objects>)"
      ]
     },
     "execution_count": 31,
     "metadata": {},
     "output_type": "execute_result"
    },
    {
     "data": {
      "image/png": "[encoded data removed]",
      "text/plain": [
       "<Figure size 432x288 with 1 Axes>"
      ]
     },
     "metadata": {
      "needs_background": "light"
     },
     "output_type": "display_data"
    }
   ],
   "source": [
    "f = plt.figure()\n",
    "ax1 = f.add_subplot(111)\n",
    "ax1.hist(np.random.randn(50))\n"
   ]
  },
  {
   "cell_type": "code",
   "execution_count": 151,
   "metadata": {},
   "outputs": [
    {
     "data": {
      "text/plain": [
       "(array([2., 0., 0., 0., 0., 0., 1., 1., 0., 1., 1., 1., 1., 0., 1., 1., 0.,\n",
       "        1., 0., 1., 0., 2., 1., 1., 0., 0., 0., 0., 1., 0., 2., 1., 1., 0.,\n",
       "        2., 1., 0., 1., 1., 0., 0., 0., 0., 0., 3., 0., 1., 1., 1., 1., 0.,\n",
       "        0., 1., 0., 0., 0., 0., 1., 0., 0., 0., 0., 0., 0., 1., 0., 0., 0.,\n",
       "        1., 1., 0., 2., 0., 1., 0., 0., 1., 0., 0., 0., 0., 0., 0., 2., 0.,\n",
       "        0., 0., 1., 1., 1., 1., 1., 0., 0., 0., 0., 0., 0., 0., 1.]),\n",
       " array([-1.64178098, -1.61304518, -1.58430939, -1.55557359, -1.52683779,\n",
       "        -1.49810199, -1.46936619, -1.4406304 , -1.4118946 , -1.3831588 ,\n",
       "        -1.354423  , -1.32568721, -1.29695141, -1.26821561, -1.23947981,\n",
       "        -1.21074402, -1.18200822, -1.15327242, -1.12453662, -1.09580083,\n",
       "        -1.06706503, -1.03832923, -1.00959343, -0.98085764, -0.95212184,\n",
       "        -0.92338604, -0.89465024, -0.86591445, -0.83717865, -0.80844285,\n",
       "        -0.77970705, -0.75097125, -0.72223546, -0.69349966, -0.66476386,\n",
       "        -0.63602806, -0.60729227, -0.57855647, -0.54982067, -0.52108487,\n",
       "        -0.49234908, -0.46361328, -0.43487748, -0.40614168, -0.37740589,\n",
       "        -0.34867009, -0.31993429, -0.29119849, -0.2624627 , -0.2337269 ,\n",
       "        -0.2049911 , -0.1762553 , -0.14751951, -0.11878371, -0.09004791,\n",
       "        -0.06131211, -0.03257631, -0.00384052,  0.02489528,  0.05363108,\n",
       "         0.08236688,  0.11110267,  0.13983847,  0.16857427,  0.19731007,\n",
       "         0.22604586,  0.25478166,  0.28351746,  0.31225326,  0.34098905,\n",
       "         0.36972485,  0.39846065,  0.42719645,  0.45593224,  0.48466804,\n",
       "         0.51340384,  0.54213964,  0.57087543,  0.59961123,  0.62834703,\n",
       "         0.65708283,  0.68581863,  0.71455442,  0.74329022,  0.77202602,\n",
       "         0.80076182,  0.82949761,  0.85823341,  0.88696921,  0.91570501,\n",
       "         0.9444408 ,  0.9731766 ,  1.0019124 ,  1.0306482 ,  1.05938399,\n",
       "         1.08811979,  1.11685559,  1.14559139,  1.17432718,  1.20306298,\n",
       "         1.23179878]),\n",
       " <a list of 100 Patch objects>)"
      ]
     },
     "execution_count": 151,
     "metadata": {},
     "output_type": "execute_result"
    },
    {
     "data": {
      "image/png": "[encoded data removed]",
      "text/plain": [
       "<Figure size 1008x360 with 1 Axes>"
      ]
     },
     "metadata": {},
     "output_type": "display_data"
    }
   ],
   "source": [
    "f = plt.figure(figsize = (14,5), facecolor = 'r')\n",
    "ax1 = f.add_subplot(111)\n",
    "ax1.hist(np.random.randn(50), color = 'r', edgecolor='black', bins=100, alpha = 0.1)"
   ]
  },
  {
   "cell_type": "code",
   "execution_count": 152,
   "metadata": {},
   "outputs": [
    {
     "data": {
      "image/png": "[encoded data removed]",
      "text/plain": [
       "<Figure size 432x288 with 2 Axes>"
      ]
     },
     "metadata": {
      "needs_background": "light"
     },
     "output_type": "display_data"
    }
   ],
   "source": [
    "f = plt.figure()\n",
    "#ax1 = f.add_subplot(111)\n",
    "ax2 = f.add_subplot(221)\n",
    "ax3 = f.add_subplot(222)"
   ]
  },
  {
   "cell_type": "code",
   "execution_count": 50,
   "metadata": {},
   "outputs": [
    {
     "data": {
      "image/png": "[encoded data removed]",
      "text/plain": [
       "<Figure size 432x288 with 3 Axes>"
      ]
     },
     "metadata": {
      "needs_background": "light"
     },
     "output_type": "display_data"
    }
   ],
   "source": [
    "f = plt.figure()\n",
    "#ax1 = f.add_subplot(111)\n",
    "ax2 = f.add_subplot(221)\n",
    "ax3 = f.add_subplot(222)\n",
    "ax4 = f.add_subplot(223)"
   ]
  },
  {
   "cell_type": "code",
   "execution_count": 157,
   "metadata": {},
   "outputs": [
    {
     "data": {
      "image/png": "[encoded data removed]",
      "text/plain": [
       "<Figure size 432x288 with 3 Axes>"
      ]
     },
     "metadata": {
      "needs_background": "light"
     },
     "output_type": "display_data"
    }
   ],
   "source": [
    "f = plt.figure()\n",
    "a1 = f.add_subplot(231)\n",
    "#a12 = f.add_subplot(232)\n",
    "#a13 = f.add_subplot(233)\n",
    "a2 = f.add_subplot(122)\n",
    "#a22 = f.add_subplot(121)\n",
    "a3 = f.add_subplot(223)"
   ]
  },
  {
   "cell_type": "code",
   "execution_count": 158,
   "metadata": {},
   "outputs": [
    {
     "data": {
      "text/plain": [
       "<matplotlib.collections.PathCollection at 0x1840dfc8b50>"
      ]
     },
     "execution_count": 158,
     "metadata": {},
     "output_type": "execute_result"
    },
    {
     "data": {
      "image/png": "[encoded data removed]",
      "text/plain": [
       "<Figure size 1008x360 with 3 Axes>"
      ]
     },
     "metadata": {
      "needs_background": "light"
     },
     "output_type": "display_data"
    }
   ],
   "source": [
    "f = plt.figure(figsize = (14,5))\n",
    "a1 = f.add_subplot(221)\n",
    "a2 = f.add_subplot(122)\n",
    "a3 = f.add_subplot(223)\n",
    "\n",
    "\n",
    "a1.hist(np.random.randn(100), bins = 20, color = 'r', alpha = 0.5)\n",
    "a1.hist(np.random.randn(50), bins = 20, color = 'b', alpha = 0.5)\n",
    "a2.scatter(np.arange(30), np.arange(30)+ 3 * np.random.randn(30) )"
   ]
  },
  {
   "cell_type": "code",
   "execution_count": 94,
   "metadata": {},
   "outputs": [
    {
     "data": {
      "image/png": "[encoded data removed]",
      "text/plain": [
       "<Figure size 1008x360 with 2 Axes>"
      ]
     },
     "metadata": {
      "needs_background": "light"
     },
     "output_type": "display_data"
    }
   ],
   "source": [
    "f = plt.figure(figsize = (14,5))\n",
    "a1 = f.add_subplot(121)\n",
    "a2 = f.add_subplot(122)\n",
    "\n",
    "\n",
    "a1.hist(np.random.randn(100), bins = 20, color = 'r', label = \"x\", alpha = 0.5)\n",
    "a1.hist(np.random.randn(50), bins = 20, color = 'b', label = \"y\", alpha = 0.5)\n",
    "a2.scatter(np.arange(30), np.arange(30)+ 3 * np.random.randn(30), marker='o', c='y', edgecolor='black')\n",
    "\n",
    "\n",
    "a1.set_title('Hist')\n",
    "a1.set_xlabel('$x$')\n",
    "a1.set_ylabel('$y$')\n",
    "\n",
    "\n",
    "a2.set_title('Scatter')\n",
    "a2.yaxis.tick_right()"
   ]
  },
  {
   "cell_type": "code",
   "execution_count": null,
   "metadata": {},
   "outputs": [],
   "source": []
  },
  {
   "cell_type": "code",
   "execution_count": null,
   "metadata": {},
   "outputs": [],
   "source": []
  },
  {
   "cell_type": "code",
   "execution_count": null,
   "metadata": {},
   "outputs": [],
   "source": []
  },
  {
   "cell_type": "code",
   "execution_count": null,
   "metadata": {},
   "outputs": [],
   "source": []
  },
  {
   "cell_type": "code",
   "execution_count": null,
   "metadata": {},
   "outputs": [],
   "source": []
  },
  {
   "cell_type": "code",
   "execution_count": null,
   "metadata": {},
   "outputs": [],
   "source": []
  },
  {
   "cell_type": "code",
   "execution_count": null,
   "metadata": {},
   "outputs": [],
   "source": []
  },
  {
   "cell_type": "code",
   "execution_count": null,
   "metadata": {},
   "outputs": [],
   "source": []
  },
  {
   "cell_type": "code",
   "execution_count": null,
   "metadata": {},
   "outputs": [],
   "source": []
  },
  {
   "cell_type": "code",
   "execution_count": null,
   "metadata": {},
   "outputs": [],
   "source": []
  },
  {
   "cell_type": "code",
   "execution_count": null,
   "metadata": {},
   "outputs": [],
   "source": [
    "\n",
    "\n"
   ]
  },
  {
   "cell_type": "code",
   "execution_count": null,
   "metadata": {},
   "outputs": [],
   "source": []
  }
 ],
 "metadata": {
  "kernelspec": {
   "display_name": "Python 3",
   "language": "python",
   "name": "python3"
  },
  "language_info": {
   "codemirror_mode": {
    "name": "ipython",
    "version": 3
   },
   "file_extension": ".py",
   "mimetype": "text/x-python",
   "name": "python",
   "nbconvert_exporter": "python",
   "pygments_lexer": "ipython3",
   "version": "3.8.3"
  }
 },
 "nbformat": 4,
 "nbformat_minor": 4
}
